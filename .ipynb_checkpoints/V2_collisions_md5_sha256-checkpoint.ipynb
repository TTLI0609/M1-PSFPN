{
 "cells": [
  {
   "cell_type": "markdown",
   "metadata": {},
   "source": [
    "# Recherche de collisions entre MD5 et SHA256"
   ]
  },
  {
   "cell_type": "code",
   "execution_count": 1,
   "metadata": {},
   "outputs": [],
   "source": [
    "import hashlib\n",
    "import math\n",
    "import random\n",
    "import numpy as np\n",
    "import time"
   ]
  },
  {
   "cell_type": "code",
   "execution_count": 2,
   "metadata": {},
   "outputs": [],
   "source": [
    "def trail(fhash,  k , l):\n",
    "    \"\"\"\n",
    "    retourne un triplet (x0, xd, d) \n",
    "    fhash: une fonction d'hachage quelconque (md5, sha256)\n",
    "    k: longueur de la chaine générer en bits\n",
    "    l: condition d'arret pour le point distingué : les l derniers bits doit etre nuls\n",
    "    \"\"\"\n",
    "    x0 = random.getrandbits(k)\n",
    "    tmp = x0\n",
    "    d = 0                            # longueur du trail\n",
    "    max_it = 20/ (1/(2**l))          # nb maximum d'itération d'apres l'article\n",
    "    mask_k = 2**k - 1\n",
    "    mask_l = 2**l - 1\n",
    "    \n",
    "    while True:\n",
    "        if d == max_it:\n",
    "            # print(\"Risque de cycle\")\n",
    "            return None\n",
    "        if tmp & mask_l == 0:        # condition d'arret\n",
    "            xd = tmp\n",
    "            break\n",
    "        d += 1\n",
    "        x = tmp.to_bytes(16, byteorder='big')  \n",
    "        y = fhash(x).digest()\n",
    "        tmp = int.from_bytes(y, byteorder='big') & mask_k\n",
    "    return (x0, xd, d)"
   ]
  },
  {
   "cell_type": "code",
   "execution_count": 3,
   "metadata": {},
   "outputs": [],
   "source": [
    "def f_cut_k(fhash, val, k):\n",
    "    \"\"\"\n",
    "    Retourne la valeur retournée par fhash(val) tronquée à k bits\n",
    "    fhash\n",
    "    val : int\n",
    "    k : longueur de la chaine en bits\n",
    "    \"\"\"\n",
    "    x = val.to_bytes(16, byteorder='big')  \n",
    "    y = fhash(x).digest()\n",
    "    mask_k = 2**k - 1\n",
    "    return int.from_bytes(y, byteorder='big') & mask_k"
   ]
  },
  {
   "cell_type": "code",
   "execution_count": 4,
   "metadata": {},
   "outputs": [],
   "source": [
    "def remonter (fhash ,A , B, k, b):\n",
    "    \"\"\"\n",
    "    returne ( (x,fhash), (y,fhash)) tq x != y et fhash(x) == fhash(y)\n",
    "    A, B : triplet (x0, xd, d)\n",
    "    b : 0 ou 1\n",
    "    0 represente md5\n",
    "    1 represente sha256    \n",
    "    \"\"\"       \n",
    "    if A[2] >= B[2]: \n",
    "        x = A[0]\n",
    "        for _ in range(A[2]-B[2]):\n",
    "            x = f_cut_k(fhash(b), x, k)\n",
    "        y = B[0]\n",
    "        if x == y : \n",
    "            #print('pb : x==y et fhash(x)==fhash(y)')\n",
    "            return None\n",
    "        while True:\n",
    "            if x == y :\n",
    "                break\n",
    "            tmp1 = x            \n",
    "            tmp2 = y             # anciennes valeurs\n",
    "            x = f_cut_k(fhash(b), tmp1, k)  \n",
    "            y = f_cut_k(fhash(1-b), tmp2, k)  \n",
    "        return ( (tmp1, fhash(b).__name__ ) , (tmp2, fhash(1-b).__name__ ))\n",
    "        \n",
    "    else:    # A[2] < B[2] mais on fait la meme chose\n",
    "        y = B[0]\n",
    "        for _ in range(B[2]-A[2]):\n",
    "            y = f_cut_k(fhash(1-b), y, k)\n",
    "        x = A[0]\n",
    "        if x == y : \n",
    "            #print('pb : x==y et fhash(x)==fhash(y)')\n",
    "            return None\n",
    "        while True:\n",
    "            if x == y :\n",
    "                break\n",
    "            tmp1 = x            \n",
    "            tmp2 = y             # anciennes valeurs\n",
    "            x = f_cut_k(fhash(b), tmp1, k) \n",
    "            y = f_cut_k(fhash(1-b), tmp2, k)\n",
    "        return ( (tmp1, fhash(b).__name__ ) , (tmp2, fhash(1-b).__name__ ))"
   ]
  },
  {
   "cell_type": "code",
   "execution_count": 5,
   "metadata": {},
   "outputs": [],
   "source": [
    "def F(b):\n",
    "    \"\"\"\n",
    "    Choisir uniformement une fonction de hash\n",
    "    b : 0 ou 1\n",
    "    0 represente md5\n",
    "    1 represente sha256\n",
    "    \"\"\"\n",
    "    if b == 0:\n",
    "        return hashlib.md5\n",
    "    if b == 1:\n",
    "        return hashlib.sha256"
   ]
  },
  {
   "cell_type": "code",
   "execution_count": 20,
   "metadata": {},
   "outputs": [],
   "source": [
    "def collision_detection(fhash,  k, l):\n",
    "    \"\"\"\n",
    "    Detecter une seule collision\n",
    "    fhash : prend un int en parametre et returne un pointer de fonction\n",
    "            de hash\n",
    "    Retourne le couple de couplet ((a , fhash1),(b , fhash2)) où fhash1(a)=fhash2(b) où chaque valeur\n",
    "    est tronquée à k bits\n",
    "    \"\"\"\n",
    "    dico = {}\n",
    "    while True: \n",
    "        b = random.randint(0,1) \n",
    "        res = trail(fhash(b), k, l)\n",
    "        if res == None:\n",
    "            continue\n",
    "            \n",
    "        x0, xd, d = res\n",
    "        \n",
    "        if (xd,1-b) in dico:  \n",
    "            #print(\"Collision found\")\n",
    "            A = (x0,xd,d)                                  # b\n",
    "            B = (dico[(xd,1-b)][0], xd,dico[(xd,1-b)][1])  # 1-b\n",
    "            return remonter(fhash, A , B, k, b )\n",
    "        dico[(xd,b)] = (x0, d)\n"
   ]
  },
  {
   "cell_type": "code",
   "execution_count": 21,
   "metadata": {},
   "outputs": [],
   "source": [
    "def collision_detection_multiple(fhash, k, l, nb_col):\n",
    "    \"\"\"\n",
    "    Detecter nb_col collisions\n",
    "    Retourner la lister de collisions\n",
    "    \"\"\" \n",
    "    liste = []\n",
    "    i = 0\n",
    "    while i<nb_col :\n",
    "        tmp = collision_detection(fhash,  k, l)\n",
    "        if tmp == None:\n",
    "            continue\n",
    "        if tmp in liste or (tmp[1],tmp[0]) in liste: # si collision deja trouvé \n",
    "            continue \n",
    "        liste.append(tmp)\n",
    "        i += 1\n",
    "    return liste"
   ]
  },
  {
   "cell_type": "markdown",
   "metadata": {},
   "source": [
    "# Test"
   ]
  },
  {
   "cell_type": "code",
   "execution_count": 24,
   "metadata": {},
   "outputs": [
    {
     "name": "stdout",
     "output_type": "stream",
     "text": [
      "((533242, 'openssl_md5'), (154498, 'openssl_sha256'))\n"
     ]
    }
   ],
   "source": [
    "k = 20\n",
    "l = 5\n",
    "print(collision_detection(F, k, l))"
   ]
  },
  {
   "cell_type": "code",
   "execution_count": 26,
   "metadata": {},
   "outputs": [
    {
     "name": "stdout",
     "output_type": "stream",
     "text": [
      "615040\n",
      "615040\n"
     ]
    }
   ],
   "source": [
    "print(f_cut_k(hashlib.md5, 533242, 20))\n",
    "print(f_cut_k(hashlib.sha256, 154498, 20))"
   ]
  },
  {
   "cell_type": "code",
   "execution_count": 22,
   "metadata": {},
   "outputs": [],
   "source": [
    "# collision_detection_multiple(F, 20, 10, (2**10)/2 )"
   ]
  }
 ],
 "metadata": {
  "kernelspec": {
   "display_name": "Python 3",
   "language": "python",
   "name": "python3"
  },
  "language_info": {
   "codemirror_mode": {
    "name": "ipython",
    "version": 3
   },
   "file_extension": ".py",
   "mimetype": "text/x-python",
   "name": "python",
   "nbconvert_exporter": "python",
   "pygments_lexer": "ipython3",
   "version": "3.7.1"
  }
 },
 "nbformat": 4,
 "nbformat_minor": 2
}
