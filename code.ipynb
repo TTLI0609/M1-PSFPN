{
 "cells": [
  {
   "cell_type": "code",
   "execution_count": 117,
   "metadata": {},
   "outputs": [],
   "source": [
    "import hashlib\n",
    "import math\n",
    "import random\n",
    "import numpy as np\n",
    "import time"
   ]
  },
  {
   "cell_type": "code",
   "execution_count": 118,
   "metadata": {},
   "outputs": [],
   "source": [
    "class Statistics:\n",
    "    n_points = 0\n",
    "    n_trails = 0\n",
    "    n_cycles = 0"
   ]
  },
  {
   "cell_type": "code",
   "execution_count": 119,
   "metadata": {},
   "outputs": [],
   "source": [
    "def trail(fhash,  k , l):\n",
    "    \"\"\"\n",
    "    retourne un triplet (x0, xd, d) \n",
    "    fhash: une fonction d'hachage quelconque (md5, sha256)\n",
    "    k: longueur de la chaine générer\n",
    "    l: condition d'arret pour le point distingué : les l derniers bits doit etre nul\n",
    "    \"\"\"\n",
    "    x0 = random.getrandbits(k)\n",
    "    tmp = x0 # c'est un int\n",
    "    d = 0\n",
    "    max_it = 20/ (1/(2**l))  # d'apres l'article\n",
    "    # 2**(l+2)\n",
    "    mask_k = 2**k - 1\n",
    "    mask_l = 2**l - 1\n",
    "    lbyte = math.ceil(l/8)\n",
    "    while True:\n",
    "        if d == max_it:\n",
    "            #print(\"Risque de cycle\")\n",
    "            return None\n",
    "        \n",
    "        if tmp & mask_l == 0:  # condition d'arret\n",
    "            xd = tmp\n",
    "            break\n",
    "        d += 1\n",
    "        x = tmp.to_bytes(16, byteorder='big')  \n",
    "        y = fhash(x).digest()\n",
    "        Statistics.n_points += 1\n",
    "        tmp = int.from_bytes(y, byteorder='big') & mask_k\n",
    "        #print(d, tmp)\n",
    "    \n",
    "    return (x0, xd, d)"
   ]
  },
  {
   "cell_type": "code",
   "execution_count": null,
   "metadata": {},
   "outputs": [],
   "source": [
    "def collision_detection(fhash, k, l):\n",
    "    \"\"\"\n",
    "    detecte une seule collision\n",
    "    retourne le couple de triplet ( (x0,xd,d), (x0',xd,d') )\n",
    "    \"\"\"\n",
    "    dico = {}\n",
    "    while True: \n",
    "        res = trail(fhash, k, l)\n",
    "        Statistics.n_trails += 1\n",
    "        if res == None:\n",
    "            Statistics.n_cycles += 1\n",
    "            continue\n",
    "            \n",
    "        x0, xd, d = res\n",
    "        \n",
    "        if xd in dico:\n",
    "            print(\"Collision found\")\n",
    "            return ( (x0,xd,d),(dico[xd][0], xd,dico[xd][1])  )  \n",
    "        \n",
    "        dico[xd] = (x0, d)"
   ]
  },
  {
   "cell_type": "code",
   "execution_count": 88,
   "metadata": {},
   "outputs": [
    {
     "name": "stdout",
     "output_type": "stream",
     "text": [
      "On s'attend à 2^25.2 évaluations de F\n",
      "On s'attend à 2^15.2 trails\n",
      "Collision found\n",
      "((163275221851853, 552532737869824, 2225), (155129268956935, 552532737869824, 3029))\n",
      "Temps : 73.7s\n"
     ]
    }
   ],
   "source": [
    "k = 50\n",
    "l = 10\n",
    "log_nF = k/2 + 0.5*math.log(math.pi/2)\n",
    "print(\"On s'attend à 2^{:.1f} évaluations de F\".format(log_nF))\n",
    "print(\"On s'attend à 2^{:.1f} trails\".format(log_nF - l))\n",
    "debut = time.time()\n",
    "print(collision_detection(hashlib.md5, 50, 10))\n",
    "fin = time.time()\n",
    "print(\"Temps : {:.1f}s\".format(fin - debut))"
   ]
  },
  {
   "cell_type": "code",
   "execution_count": 89,
   "metadata": {},
   "outputs": [
    {
     "name": "stdout",
     "output_type": "stream",
     "text": [
      "--> 2^26.3 points\n",
      "--> 2^16.4 trails\n",
      "--> 2^10.6 cycles\n"
     ]
    }
   ],
   "source": [
    "print(\"--> 2^{:.1f} points\".format(math.log(Statistics.n_points, 2)))\n",
    "print(\"--> 2^{:.1f} trails\".format(math.log(Statistics.n_trails, 2)))\n",
    "print(\"--> 2^{:.1f} cycles\".format(math.log(Statistics.n_cycles, 2)))"
   ]
  },
  {
   "cell_type": "code",
   "execution_count": 120,
   "metadata": {},
   "outputs": [],
   "source": [
    "def f_cut_k(fhash, val, k):\n",
    "    \"\"\"\n",
    "    Retourne la valeur retournée par fhash(val) tronquée à k bits\n",
    "    fhash\n",
    "    val : int\n",
    "    k\n",
    "    \"\"\"\n",
    "    x = val.to_bytes(16, byteorder='big')  \n",
    "    y = fhash(x).digest()\n",
    "    mask_k = 2**k - 1\n",
    "    return int.from_bytes(y, byteorder='big') & mask_k"
   ]
  },
  {
   "cell_type": "code",
   "execution_count": 230,
   "metadata": {},
   "outputs": [],
   "source": [
    "def remonter (fhash ,A , B, k, b):\n",
    "    \"\"\"\n",
    "    returne (x,y) tq x != y et fhash(x) == fhash(y)\n",
    "    A, B : triplet (x0, xd, d)\n",
    "    b : 0 ou 1\n",
    "    \"\"\"       \n",
    "    \n",
    "    if A[2] >= B[2]: \n",
    "\n",
    "        x = A[0]\n",
    "        for _ in range(A[2]-B[2]):\n",
    "            x = f_cut_k(fhash(b), x, k)\n",
    "        y = B[0]\n",
    "\n",
    "        if x == y : \n",
    "            #print('pb : x==y et fhash(x)==fhash(y)')\n",
    "            return None\n",
    "\n",
    "        while True:\n",
    "            if x == y :\n",
    "                break\n",
    "\n",
    "            tmp1 = x            \n",
    "            tmp2 = y             # anciennes valeurs\n",
    "            x = f_cut_k(fhash(b), tmp1, k)  \n",
    "            y = f_cut_k(fhash(1-b), tmp2, k)  \n",
    "\n",
    "        return ( (tmp1, fhash(b).__name__ ) , (tmp2, fhash(1-b).__name__ ))\n",
    "        #return (tmp1, tmp2)\n",
    "        \n",
    "    else:    # A[2] < B[2] mais on fait la meme chose\n",
    "        \n",
    "        y = B[0]\n",
    "        for _ in range(B[2]-A[2]):\n",
    "            y = f_cut_k(fhash(1-b), y, k)\n",
    "        x = A[0]\n",
    "\n",
    "        if x == y : \n",
    "            #print('pb : x==y et fhash(x)==fhash(y)')\n",
    "            return None\n",
    "\n",
    "        while True:\n",
    "            if x == y :\n",
    "                break\n",
    "\n",
    "            tmp1 = x            \n",
    "            tmp2 = y             # anciennes valeurs\n",
    "            x = f_cut_k(fhash(b), tmp1, k) \n",
    "            y = f_cut_k(fhash(1-b), tmp2, k)  \n",
    "\n",
    "        return ( (tmp1, fhash(b).__name__ ) , (tmp2, fhash(1-b).__name__ ))\n",
    "        #return (tmp1, tmp2)"
   ]
  },
  {
   "cell_type": "code",
   "execution_count": 208,
   "metadata": {},
   "outputs": [],
   "source": [
    "def F(b):\n",
    "    \"\"\"\n",
    "    Choisir uniformement une fonction de hash\n",
    "    b : 0 ou 1\n",
    "    \"\"\"\n",
    "    if b == 0:\n",
    "        return hashlib.md5\n",
    "    if b == 1:\n",
    "        return hashlib.sha256"
   ]
  },
  {
   "cell_type": "code",
   "execution_count": 209,
   "metadata": {},
   "outputs": [],
   "source": [
    "def collision_detection2(fhash,  k, l):\n",
    "    \"\"\"\n",
    "    detecte une seule collision\n",
    "    fhash : prend un int en parametre et returne un pointer de fonction\n",
    "            de hash\n",
    "    retourne le couple de triplet ( (x0,xd,d), (x0',xd,d') )\n",
    "    \"\"\"\n",
    "    dico = {}\n",
    "    while True: \n",
    "        b = random.randint(0,1) \n",
    "        res = trail(fhash(b), k, l)\n",
    "        Statistics.n_trails += 1\n",
    "        if res == None:\n",
    "            Statistics.n_cycles += 1\n",
    "            continue\n",
    "            \n",
    "        x0, xd, d = res\n",
    "        \n",
    "        if (xd,1-b) in dico:  \n",
    "            #print(\"Collision found\")\n",
    "            \n",
    "            A = (x0,xd,d)                                  # b\n",
    "            B = (dico[(xd,1-b)][0], xd,dico[(xd,1-b)][1])  # 1-b\n",
    "            return remonter(fhash, A , B, k, b )\n",
    "        dico[(xd,b)] = (x0, d)\n"
   ]
  },
  {
   "cell_type": "code",
   "execution_count": 227,
   "metadata": {},
   "outputs": [],
   "source": [
    "def collision_detection_multiple(fhash, k, l, nb_col):\n",
    "    liste = []\n",
    "    i = 0\n",
    "    while i<nb_col :\n",
    "        tmp = collision_detection2(fhash,  k, l)\n",
    "        if tmp == None:\n",
    "            continue\n",
    "        if tmp in liste or (tmp[1],tmp[0]) in liste: # si collision deja trouvé \n",
    "            continue \n",
    "        liste.append(tmp)\n",
    "        i += 1\n",
    "        #print((liste))\n",
    "    return liste"
   ]
  },
  {
   "cell_type": "code",
   "execution_count": 228,
   "metadata": {},
   "outputs": [],
   "source": [
    "# collision_detection_multiple(F, 20, 10, (2**10)/2 )"
   ]
  },
  {
   "cell_type": "code",
   "execution_count": 231,
   "metadata": {},
   "outputs": [
    {
     "data": {
      "text/plain": [
       "((222001, 'openssl_md5'), (913729, 'openssl_sha256'))"
      ]
     },
     "execution_count": 231,
     "metadata": {},
     "output_type": "execute_result"
    }
   ],
   "source": [
    "k = 20\n",
    "l = 10\n",
    "\n",
    "collision_detection2(F, k, l)"
   ]
  },
  {
   "cell_type": "code",
   "execution_count": 234,
   "metadata": {},
   "outputs": [
    {
     "name": "stdout",
     "output_type": "stream",
     "text": [
      "961536 \n",
      "\n",
      "961536\n"
     ]
    }
   ],
   "source": [
    "print(f_cut_k(hashlib.md5, 222001, 20),'\\n')\n",
    "print(f_cut_k(hashlib.sha256, 913729, 20))"
   ]
  },
  {
   "cell_type": "code",
   "execution_count": 248,
   "metadata": {},
   "outputs": [],
   "source": [
    "def trace_k(fhash, k , l):\n",
    "    x_taille_graph = np.linspace(10,k,k-10,dtype=int)\n",
    "    y_temps = np.zeros(k-10)\n",
    "    tmp= np.zeros(5)\n",
    "    for i in range(len(x_taille_graph)):\n",
    "        \n",
    "        for j in range(5):\n",
    "            debut = time.time()\n",
    "            collision_detection(fhash ,x_taille_graph[i] , l)\n",
    "            fin = time.time()\n",
    "            tmp[j] = fin-debut\n",
    "        y_temps[i] = np.mean(tmp)\n",
    "\n",
    "    plt.plot(x_taille_graph, y_temps, color= np.random.rand(3,), label=fhash.__name__)\n",
    "    plt.gca().legend().set_visible(True)\n",
    "    plt.title(fhash.__name__)\n",
    "    plt.xlabel(\"k\")\n",
    "    plt.ylabel(\"temps de calcul (s)\")\n",
    "    plt.show()\n",
    "    \n",
    "def trace_l(fhash, k , l):\n",
    "    x_taille_graph = np.linspace(2,l,l-2,dtype=int)\n",
    "    y_temps = np.zeros(l-2)\n",
    "    \n",
    "    for i in range(len(x_taille_graph)):\n",
    "        debut = time.time()\n",
    "        collision_detection(fhash ,k , x_taille_graph[i])\n",
    "        fin = time.time()\n",
    "        y_temps[i] = fin-debut\n",
    "\n",
    "    plt.plot(x_taille_graph, y_temps, color= np.random.rand(3,), label=fhash.__name__)\n",
    "    plt.gca().legend().set_visible(True)\n",
    "    plt.title(fhash.__name__)\n",
    "    plt.xlabel(\"l\")\n",
    "    plt.ylabel(\"temps de calcul (s)\")\n",
    "    plt.show()\n"
   ]
  }
 ],
 "metadata": {
  "kernelspec": {
   "display_name": "Python 3",
   "language": "python",
   "name": "python3"
  },
  "language_info": {
   "codemirror_mode": {
    "name": "ipython",
    "version": 3
   },
   "file_extension": ".py",
   "mimetype": "text/x-python",
   "name": "python",
   "nbconvert_exporter": "python",
   "pygments_lexer": "ipython3",
   "version": "3.7.3"
  }
 },
 "nbformat": 4,
 "nbformat_minor": 2
}
