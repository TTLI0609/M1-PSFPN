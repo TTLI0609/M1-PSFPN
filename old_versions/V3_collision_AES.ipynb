{
 "cells": [
  {
   "cell_type": "code",
   "execution_count": 297,
   "metadata": {},
   "outputs": [],
   "source": [
    "from Crypto.Cipher import AES\n",
    "from Crypto.Util.Padding import pad, unpad\n",
    "from Crypto.Random import get_random_bytes\n",
    "import base64\n",
    "import random"
   ]
  },
  {
   "cell_type": "code",
   "execution_count": 298,
   "metadata": {},
   "outputs": [],
   "source": [
    "def key_generator_AES(kp):\n",
    "    \"\"\"\n",
    "    generer des clefs 16 bytes avec kp bytes significatifs\n",
    "    \"\"\"\n",
    "    return get_random_bytes(kp)+bytes((16 - kp))\n",
    "\n",
    "def bytes_to_bin(by):\n",
    "    \"\"\"\n",
    "    convertir des bytes en bits \n",
    "    quand l'entier representant le byte a moins de 8 bits,\n",
    "    on le bourre de 0 a gauche\n",
    "    \"\"\"\n",
    "    l = list(by)\n",
    "    res = '0b'\n",
    "    for i in l:\n",
    "        res += bin(i)[2:].zfill(8)\n",
    "    return res"
   ]
  },
  {
   "cell_type": "code",
   "execution_count": 225,
   "metadata": {},
   "outputs": [],
   "source": [
    "def double_AES(msg, key1, key2,  mode = 'MODE_ECB'):\n",
    "    \"\"\"\n",
    "    faire le double chiffrement AES\n",
    "    en passant les 2 clefs en parametres\n",
    "    \"\"\"\n",
    "    enc = simple_enc_AES(msg, key1)\n",
    "    enc = simple_enc_AES(enc, key2)\n",
    "    return enc\n",
    "\n",
    "    \n",
    "def simple_enc_AES(msg, key, mode = 'MODE_ECB'):\n",
    "    \"\"\"\n",
    "    chiffrer AES\n",
    "    \"\"\"\n",
    "    if not (isinstance(msg,bytes)):\n",
    "        msg = msg.encode()\n",
    "        \n",
    "    cipher = AES.new(key, AES.MODE_ECB)\n",
    "    enc = cipher.encrypt(pad(msg, len(key)))\n",
    "    return enc\n",
    "\n",
    "def simple_dec_AES(msg, key, mode = 'MODE_ECB'):\n",
    "    \"\"\"\n",
    "    dechiffrer AES\n",
    "    \"\"\"\n",
    "    cipher = AES.new(key, AES.MODE_ECB)\n",
    "    plaintext = cipher.decrypt(msg)\n",
    "    \n",
    "    # error de padding si clef incorrevt\n",
    "    #return unpad(plaintext, len(key))  \n",
    "    return plaintext"
   ]
  },
  {
   "cell_type": "code",
   "execution_count": 299,
   "metadata": {},
   "outputs": [],
   "source": [
    "kp = 4\n",
    "key1 = key_generator_AES(kp)\n",
    "key2 = key_generator_AES(kp)\n",
    "M1 = \"Voici le message 1\"\n",
    "C1 = double_AES(M1,key1,key2)\n",
    "M2 = \"Voici le message 2\"\n",
    "C2 = double_AES(M2,key1,key2)"
   ]
  },
  {
   "cell_type": "code",
   "execution_count": 300,
   "metadata": {},
   "outputs": [],
   "source": [
    "def trail(f, msg, kp, l):\n",
    "    \"\"\"\n",
    "    retourne un triplet (x0, xd, d) \n",
    "    f : fonction chiffrement OU dechiffrement\n",
    "    msg : message clair OU chiffré deux fois  \n",
    "    kp :nb de byte significatif de la clef\n",
    "    l : nb de bit a 0 (pour la condition d'arret)\n",
    "    \"\"\"\n",
    "    x0 = key_generator_AES(kp)\n",
    "    tmp = x0\n",
    "\n",
    "    d = 0\n",
    "    max_it = (20/ (1/(2**l))) // 3  # diviser par 3 car sinon ca prends \n",
    "                                    # tres longtemps\n",
    "    mask_l = 2**l - 1  \n",
    "    \n",
    "    while True:\n",
    "        c_temp = f(msg, tmp)\n",
    "        \n",
    "        if d == max_it:\n",
    "            #print(\"Risque de cycle \")\n",
    "            return None\n",
    "        \n",
    "        tmp_binary = bytes_to_bin(tmp[:kp])\n",
    "        if int(tmp_binary,2) & mask_l == 0:  # condition d'arret\n",
    "            xd = tmp\n",
    "            break\n",
    "            \n",
    "        d += 1\n",
    "        tmp = c_temp[:kp]+bytes((16 - kp))\n",
    "        \n",
    "    return (x0, xd, d)\n"
   ]
  },
  {
   "cell_type": "code",
   "execution_count": 301,
   "metadata": {},
   "outputs": [
    {
     "name": "stdout",
     "output_type": "stream",
     "text": [
      "(b'\\x85\\xc6,\\xf4\\x00\\x00\\x00\\x00\\x00\\x00\\x00\\x00\\x00\\x00\\x00\\x00', b'2[\\xc1 \\x00\\x00\\x00\\x00\\x00\\x00\\x00\\x00\\x00\\x00\\x00\\x00', 1)\n"
     ]
    }
   ],
   "source": [
    "kp = 4\n",
    "l=5\n",
    "print(trail(simple_enc_AES, M1, kp, l ))"
   ]
  },
  {
   "cell_type": "code",
   "execution_count": 302,
   "metadata": {},
   "outputs": [],
   "source": [
    "def F(b):\n",
    "    \"\"\"\n",
    "    Choisir uniformement une fonction\n",
    "    b : 0 ou 1\n",
    "    \"\"\"\n",
    "    if b == 0:\n",
    "        return simple_enc_AES\n",
    "    if b == 1:\n",
    "        return simple_dec_AES"
   ]
  },
  {
   "cell_type": "code",
   "execution_count": 303,
   "metadata": {},
   "outputs": [],
   "source": [
    "def new_step(f, M, kp, x):\n",
    "    \"\"\"\n",
    "    passer d'un xi au suivant\n",
    "    \"\"\"\n",
    "    c = f(M, x)\n",
    "    return c[:kp]+bytes((16 - kp))"
   ]
  },
  {
   "cell_type": "code",
   "execution_count": 272,
   "metadata": {},
   "outputs": [],
   "source": [
    "def remonter (F, A, B, M, C, kp, b):\n",
    "    \"\"\"\n",
    "    returne (x,y) tq x != y et f(x) == f(y)\n",
    "    A, B : triplet (x0, xd, d)\n",
    "    b : 0 ou 1\n",
    "    \"\"\"       \n",
    "    couple = [M,C]\n",
    "    if A[2] >= B[2]: \n",
    "\n",
    "        x = A[0]\n",
    "        for _ in range(A[2]-B[2]):\n",
    "            x =  new_step(F(b), couple[b], kp, x)\n",
    "        y = B[0]\n",
    "\n",
    "        if x == y : \n",
    "            print('pb : x==y et fhash(x)==fhash(y)')\n",
    "            return None\n",
    "\n",
    "        while True:\n",
    "            if x == y :\n",
    "                break\n",
    "            tmp1 = x            \n",
    "            tmp2 = y             # anciennes valeurs\n",
    "            x =  new_step(F(b), couple[b], kp, tmp1)\n",
    "            y = new_step(F(1-b), couple[1-b], kp, tmp2)\n",
    "\n",
    "        #return ( (tmp1, F(b).__name__ ) , (tmp2, F(1-b).__name__ ))\n",
    "        return (   (tmp1, F(b)) , (tmp2, F(1-b))    )\n",
    "        \n",
    "    else:    # A[2] < B[2] mais on fait la meme chose\n",
    "        y = B[0]\n",
    "        for _ in range(B[2]-A[2]):\n",
    "            y =  new_step(F(1-b), couple[1-b], kp, y)\n",
    "        x = A[0]\n",
    "\n",
    "        if x == y : \n",
    "            print('pb : x==y et fhash(x)==fhash(y)')\n",
    "            return None\n",
    "\n",
    "        while True:\n",
    "            if x == y :\n",
    "                break\n",
    "\n",
    "            tmp1 = x            \n",
    "            tmp2 = y             # anciennes valeurs\n",
    "            x = new_step(F(b), couple[b], kp, tmp1)\n",
    "            y = new_step(F(1-b), couple[1-b], kp, tmp2)\n",
    "\n",
    "        #return ( (tmp1, F(b).__name__ ) , (tmp2, F(1-b).__name__ ))\n",
    "        return (   (tmp1, F(b)) , (tmp2, F(1-b))    )"
   ]
  },
  {
   "cell_type": "code",
   "execution_count": 273,
   "metadata": {},
   "outputs": [],
   "source": [
    "def collision_detection(F, M, C, kp, l):\n",
    "    \"\"\"\n",
    "    detecte une seule collision\n",
    "    retourne le couple de triplet ( (x0,xd,d), (x0',xd,d') )\n",
    "    \"\"\"\n",
    "    dico = {}\n",
    "    couple = [M,C]\n",
    "    while True: \n",
    "        b = random.randint(0,1) \n",
    "        res = trail(F(b),couple[b], kp, l)\n",
    "        if res == None:\n",
    "            continue\n",
    "            \n",
    "        x0, xd, d = res\n",
    "\n",
    "        if (xd,1-b) in dico:  \n",
    "            #print(\"Collision found\")\n",
    "            A = (x0,xd,d)                                  # b\n",
    "            B = (dico[(xd,1-b)][0], xd,dico[(xd,1-b)][1])  # 1-b\n",
    "            return remonter(F, A , B, M, C, kp, b )\n",
    "            #return A, B\n",
    "        dico[(xd,b)] = (x0, d)\n"
   ]
  },
  {
   "cell_type": "code",
   "execution_count": 274,
   "metadata": {},
   "outputs": [
    {
     "data": {
      "text/plain": [
       "((b'S$\\x0c\\x12\\x00\\x00\\x00\\x00\\x00\\x00\\x00\\x00\\x00\\x00\\x00\\x00',\n",
       "  <function __main__.simple_enc_AES(msg, key, mode='MODE_ECB')>),\n",
       " (b'RHg\\xe3\\x00\\x00\\x00\\x00\\x00\\x00\\x00\\x00\\x00\\x00\\x00\\x00',\n",
       "  <function __main__.simple_dec_AES(msg, key, mode='MODE_ECB')>))"
      ]
     },
     "execution_count": 274,
     "metadata": {},
     "output_type": "execute_result"
    }
   ],
   "source": [
    "collision_detection(F, M1, C1, kp, l)"
   ]
  },
  {
   "cell_type": "code",
   "execution_count": 275,
   "metadata": {},
   "outputs": [],
   "source": [
    "def collision_detection_multiple(F,M, C, kp, l, nb_col):\n",
    "    \"\"\"\n",
    "    detecte plusieurs collision \n",
    "    nb_col : nb de collison qu'on veut obtenir\n",
    "    \"\"\"\n",
    "    liste = []\n",
    "    i = 0\n",
    "    while i<nb_col :\n",
    "        tmp = collision_detection(F, M, C, kp, l)\n",
    "        if tmp == None:\n",
    "            continue\n",
    "        if tmp in liste or (tmp[1],tmp[0]) in liste: # si collision deja trouvé \n",
    "            continue \n",
    "        liste.append(tmp)\n",
    "        i += 1\n",
    "    return liste"
   ]
  },
  {
   "cell_type": "code",
   "execution_count": 277,
   "metadata": {},
   "outputs": [
    {
     "name": "stdout",
     "output_type": "stream",
     "text": [
      "25.613345861434937\n"
     ]
    }
   ],
   "source": [
    "import time\n",
    "l= 5\n",
    "col = 3\n",
    "t1 = time.time()\n",
    "collisions = collision_detection_multiple(F, M1, C1, kp, l, col )\n",
    "print(collisions)\n",
    "t2 = time.time()\n",
    "print(t2-t1)"
   ]
  },
  {
   "cell_type": "code",
   "execution_count": 294,
   "metadata": {},
   "outputs": [],
   "source": [
    "def verification(M,C, list_col_keys):\n",
    "    \"\"\"\n",
    "    trouver la golden collision\n",
    "    \"\"\"\n",
    "    for i in list_col_keys:\n",
    "        try: \n",
    "            if i[0][1].__name__ == \"simple_enc_AES\":\n",
    "                tmp1= i[0][1](M, i[0][0])\n",
    "                tmp2 = unpad(i[1][1](C, i[1][0]), 16)\n",
    "            else:\n",
    "                tmp1= unpad(i[0][1](C, i[0][0]),16)\n",
    "                tmp2 = i[1][1](M, i[1][0])\n",
    "\n",
    "            if( tmp1 == tmp2):\n",
    "                return True\n",
    "        except ValueError:\n",
    "            pass\n",
    "        else : \n",
    "            print(tmp1+'\\n'+tmp2+'\\n\\n')\n",
    "    "
   ]
  },
  {
   "cell_type": "code",
   "execution_count": 295,
   "metadata": {},
   "outputs": [],
   "source": [
    "verification(M2,C2, collisions)"
   ]
  },
  {
   "cell_type": "code",
   "execution_count": null,
   "metadata": {},
   "outputs": [],
   "source": []
  }
 ],
 "metadata": {
  "kernelspec": {
   "display_name": "Python 3",
   "language": "python",
   "name": "python3"
  },
  "language_info": {
   "codemirror_mode": {
    "name": "ipython",
    "version": 3
   },
   "file_extension": ".py",
   "mimetype": "text/x-python",
   "name": "python",
   "nbconvert_exporter": "python",
   "pygments_lexer": "ipython3",
   "version": "3.7.4"
  }
 },
 "nbformat": 4,
 "nbformat_minor": 2
}
