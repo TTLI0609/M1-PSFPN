{
 "cells": [
  {
   "cell_type": "code",
   "execution_count": 117,
   "metadata": {},
   "outputs": [],
   "source": [
    "import hashlib\n",
    "import math\n",
    "import random\n",
    "import numpy as np\n",
    "import time"
   ]
  },
  {
   "cell_type": "markdown",
   "metadata": {},
   "source": [
    "# Code pour une detection simple de collision"
   ]
  },
  {
   "cell_type": "code",
   "execution_count": 118,
   "metadata": {},
   "outputs": [],
   "source": [
    "class Statistics:\n",
    "    n_points = 0\n",
    "    n_trails = 0\n",
    "    n_cycles = 0"
   ]
  },
  {
   "cell_type": "code",
   "execution_count": 119,
   "metadata": {},
   "outputs": [],
   "source": [
    "def trail(fhash,  k , l):\n",
    "    \"\"\"\n",
    "    retourne un triplet (x0, xd, d) \n",
    "    fhash: une fonction d'hachage quelconque (md5, sha256)\n",
    "    k: longueur de la chaine générer\n",
    "    l: condition d'arret pour le point distingué : les l derniers bits doit etre nul\n",
    "    \"\"\"\n",
    "    x0 = random.getrandbits(k)\n",
    "    tmp = x0 # c'est un int\n",
    "    d = 0\n",
    "    max_it = 20/ (1/(2**l))  # d'apres l'article\n",
    "    # 2**(l+2)\n",
    "    mask_k = 2**k - 1\n",
    "    mask_l = 2**l - 1\n",
    "    lbyte = math.ceil(l/8)\n",
    "    while True:\n",
    "        if d == max_it:\n",
    "            #print(\"Risque de cycle\")\n",
    "            return None\n",
    "        \n",
    "        if tmp & mask_l == 0:  # condition d'arret\n",
    "            xd = tmp\n",
    "            break\n",
    "        d += 1\n",
    "        x = tmp.to_bytes(16, byteorder='big')  \n",
    "        y = fhash(x).digest()\n",
    "        Statistics.n_points += 1\n",
    "        tmp = int.from_bytes(y, byteorder='big') & mask_k\n",
    "        #print(d, tmp)\n",
    "    \n",
    "    return (x0, xd, d)"
   ]
  },
  {
   "cell_type": "code",
   "execution_count": null,
   "metadata": {},
   "outputs": [],
   "source": [
    "def collision_detection(fhash, k, l):\n",
    "    \"\"\"\n",
    "    detecte une seule collision\n",
    "    retourne le couple de triplet ( (x0,xd,d), (x0',xd,d') )\n",
    "    \"\"\"\n",
    "    dico = {}\n",
    "    while True: \n",
    "        res = trail(fhash, k, l)\n",
    "        Statistics.n_trails += 1\n",
    "        if res == None:\n",
    "            Statistics.n_cycles += 1\n",
    "            continue\n",
    "            \n",
    "        x0, xd, d = res\n",
    "        \n",
    "        if xd in dico:\n",
    "            print(\"Collision found\")\n",
    "            return ( (x0,xd,d),(dico[xd][0], xd,dico[xd][1])  )  \n",
    "        \n",
    "        dico[xd] = (x0, d)"
   ]
  },
  {
   "cell_type": "code",
   "execution_count": 88,
   "metadata": {},
   "outputs": [
    {
     "name": "stdout",
     "output_type": "stream",
     "text": [
      "On s'attend à 2^25.2 évaluations de F\n",
      "On s'attend à 2^15.2 trails\n",
      "Collision found\n",
      "((163275221851853, 552532737869824, 2225), (155129268956935, 552532737869824, 3029))\n",
      "Temps : 73.7s\n"
     ]
    }
   ],
   "source": [
    "k = 50\n",
    "l = 10\n",
    "log_nF = k/2 + 0.5*math.log(math.pi/2)\n",
    "print(\"On s'attend à 2^{:.1f} évaluations de F\".format(log_nF))\n",
    "print(\"On s'attend à 2^{:.1f} trails\".format(log_nF - l))\n",
    "debut = time.time()\n",
    "print(collision_detection(hashlib.md5, 50, 10))\n",
    "fin = time.time()\n",
    "print(\"Temps : {:.1f}s\".format(fin - debut))"
   ]
  },
  {
   "cell_type": "code",
   "execution_count": 89,
   "metadata": {},
   "outputs": [
    {
     "name": "stdout",
     "output_type": "stream",
     "text": [
      "--> 2^26.3 points\n",
      "--> 2^16.4 trails\n",
      "--> 2^10.6 cycles\n"
     ]
    }
   ],
   "source": [
    "print(\"--> 2^{:.1f} points\".format(math.log(Statistics.n_points, 2)))\n",
    "print(\"--> 2^{:.1f} trails\".format(math.log(Statistics.n_trails, 2)))\n",
    "print(\"--> 2^{:.1f} cycles\".format(math.log(Statistics.n_cycles, 2)))"
   ]
  },
  {
   "cell_type": "code",
   "execution_count": 248,
   "metadata": {},
   "outputs": [],
   "source": [
    "def trace_k(fhash, k , l):\n",
    "    x_taille_graph = np.linspace(10,k,k-10,dtype=int)\n",
    "    y_temps = np.zeros(k-10)\n",
    "    tmp= np.zeros(5)\n",
    "    for i in range(len(x_taille_graph)):\n",
    "        \n",
    "        for j in range(5):\n",
    "            debut = time.time()\n",
    "            collision_detection(fhash ,x_taille_graph[i] , l)\n",
    "            fin = time.time()\n",
    "            tmp[j] = fin-debut\n",
    "        y_temps[i] = np.mean(tmp)\n",
    "\n",
    "    plt.plot(x_taille_graph, y_temps, color= np.random.rand(3,), label=fhash.__name__)\n",
    "    plt.gca().legend().set_visible(True)\n",
    "    plt.title(fhash.__name__)\n",
    "    plt.xlabel(\"k\")\n",
    "    plt.ylabel(\"temps de calcul (s)\")\n",
    "    plt.show()\n",
    "    \n",
    "def trace_l(fhash, k , l):\n",
    "    x_taille_graph = np.linspace(2,l,l-2,dtype=int)\n",
    "    y_temps = np.zeros(l-2)\n",
    "    \n",
    "    for i in range(len(x_taille_graph)):\n",
    "        debut = time.time()\n",
    "        collision_detection(fhash ,k , x_taille_graph[i])\n",
    "        fin = time.time()\n",
    "        y_temps[i] = fin-debut\n",
    "\n",
    "    plt.plot(x_taille_graph, y_temps, color= np.random.rand(3,), label=fhash.__name__)\n",
    "    plt.gca().legend().set_visible(True)\n",
    "    plt.title(fhash.__name__)\n",
    "    plt.xlabel(\"l\")\n",
    "    plt.ylabel(\"temps de calcul (s)\")\n",
    "    plt.show()\n"
   ]
  }
 ],
 "metadata": {
  "kernelspec": {
   "display_name": "Python 3",
   "language": "python",
   "name": "python3"
  },
  "language_info": {
   "codemirror_mode": {
    "name": "ipython",
    "version": 3
   },
   "file_extension": ".py",
   "mimetype": "text/x-python",
   "name": "python",
   "nbconvert_exporter": "python",
   "pygments_lexer": "ipython3",
   "version": "3.7.3"
  }
 },
 "nbformat": 4,
 "nbformat_minor": 2
}
