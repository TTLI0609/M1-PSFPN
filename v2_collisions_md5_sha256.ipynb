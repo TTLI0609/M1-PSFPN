{
 "cells": [
  {
   "cell_type": "code",
   "execution_count": null,
   "metadata": {},
   "outputs": [],
   "source": [
    "import hashlib\n",
    "import math\n",
    "import random\n",
    "import numpy as np\n",
    "import time"
   ]
  },
  {
   "cell_type": "markdown",
   "metadata": {},
   "source": [
    "# Code pour collision entre MD5 et SHA256"
   ]
  },
  {
   "cell_type": "code",
   "execution_count": null,
   "metadata": {},
   "outputs": [],
   "source": [
    "def trail(fhash,  k , l):\n",
    "    \"\"\"\n",
    "    retourne un triplet (x0, xd, d) \n",
    "    fhash: une fonction d'hachage quelconque (md5, sha256)\n",
    "    k: longueur de la chaine générer\n",
    "    l: condition d'arret pour le point distingué : les l derniers bits doit etre nul\n",
    "    \"\"\"\n",
    "    x0 = random.getrandbits(k)\n",
    "    tmp = x0 # c'est un int\n",
    "    d = 0\n",
    "    max_it = 20/ (1/(2**l))  # d'apres l'article\n",
    "    # 2**(l+2)\n",
    "    mask_k = 2**k - 1\n",
    "    mask_l = 2**l - 1\n",
    "    while True:\n",
    "        if d == max_it:\n",
    "            #print(\"Risque de cycle\")\n",
    "            return None\n",
    "        \n",
    "        if tmp & mask_l == 0:  # condition d'arret\n",
    "            xd = tmp\n",
    "            break\n",
    "        d += 1\n",
    "        x = tmp.to_bytes(16, byteorder='big')  \n",
    "        y = fhash(x).digest()\n",
    "        tmp = int.from_bytes(y, byteorder='big') & mask_k\n",
    "        #print(d, tmp)\n",
    "    \n",
    "    return (x0, xd, d)"
   ]
  },
  {
   "cell_type": "code",
   "execution_count": null,
   "metadata": {},
   "outputs": [],
   "source": [
    "def f_cut_k(fhash, val, k):\n",
    "    \"\"\"\n",
    "    Retourne la valeur retournée par fhash(val) tronquée à k bits\n",
    "    fhash\n",
    "    val : int\n",
    "    k\n",
    "    \"\"\"\n",
    "    x = val.to_bytes(16, byteorder='big')  \n",
    "    y = fhash(x).digest()\n",
    "    mask_k = 2**k - 1\n",
    "    return int.from_bytes(y, byteorder='big') & mask_k"
   ]
  },
  {
   "cell_type": "code",
   "execution_count": null,
   "metadata": {},
   "outputs": [],
   "source": [
    "def remonter (fhash ,A , B, k, b):\n",
    "    \"\"\"\n",
    "    returne (x,y) tq x != y et fhash(x) == fhash(y)\n",
    "    A, B : triplet (x0, xd, d)\n",
    "    b : 0 ou 1\n",
    "    \"\"\"       \n",
    "    if A[2] >= B[2]: \n",
    "\n",
    "        x = A[0]\n",
    "        for _ in range(A[2]-B[2]):\n",
    "            x = f_cut_k(fhash(b), x, k)\n",
    "        y = B[0]\n",
    "\n",
    "        if x == y : \n",
    "            #print('pb : x==y et fhash(x)==fhash(y)')\n",
    "            return None\n",
    "\n",
    "        while True:\n",
    "            if x == y :\n",
    "                break\n",
    "\n",
    "            tmp1 = x            \n",
    "            tmp2 = y             # anciennes valeurs\n",
    "            x = f_cut_k(fhash(b), tmp1, k)  \n",
    "            y = f_cut_k(fhash(1-b), tmp2, k)  \n",
    "\n",
    "        return ( (tmp1, fhash(b).__name__ ) , (tmp2, fhash(1-b).__name__ ))\n",
    "        #return (tmp1, tmp2)\n",
    "        \n",
    "    else:    # A[2] < B[2] mais on fait la meme chose\n",
    "        \n",
    "        y = B[0]\n",
    "        for _ in range(B[2]-A[2]):\n",
    "            y = f_cut_k(fhash(1-b), y, k)\n",
    "        x = A[0]\n",
    "\n",
    "        if x == y : \n",
    "            #print('pb : x==y et fhash(x)==fhash(y)')\n",
    "            return None\n",
    "\n",
    "        while True:\n",
    "            if x == y :\n",
    "                break\n",
    "\n",
    "            tmp1 = x            \n",
    "            tmp2 = y             # anciennes valeurs\n",
    "            x = f_cut_k(fhash(b), tmp1, k) \n",
    "            y = f_cut_k(fhash(1-b), tmp2, k)  \n",
    "\n",
    "        return ( (tmp1, fhash(b).__name__ ) , (tmp2, fhash(1-b).__name__ ))\n",
    "        #return (tmp1, tmp2)"
   ]
  },
  {
   "cell_type": "code",
   "execution_count": null,
   "metadata": {},
   "outputs": [],
   "source": [
    "def F(b):\n",
    "    \"\"\"\n",
    "    Choisir uniformement une fonction de hash\n",
    "    b : 0 ou 1\n",
    "    \"\"\"\n",
    "    if b == 0:\n",
    "        return hashlib.md5\n",
    "    if b == 1:\n",
    "        return hashlib.sha256"
   ]
  },
  {
   "cell_type": "code",
   "execution_count": null,
   "metadata": {},
   "outputs": [],
   "source": [
    "def collision_detection2(fhash,  k, l):\n",
    "    \"\"\"\n",
    "    detecte une seule collision\n",
    "    fhash : prend un int en parametre et returne un pointer de fonction\n",
    "            de hash\n",
    "    retourne le couple de triplet ( (x0,xd,d), (x0',xd,d') )\n",
    "    \"\"\"\n",
    "    dico = {}\n",
    "    while True: \n",
    "        b = random.randint(0,1) \n",
    "        res = trail(fhash(b), k, l)\n",
    "        if res == None:\n",
    "            continue\n",
    "            \n",
    "        x0, xd, d = res\n",
    "        \n",
    "        if (xd,1-b) in dico:  \n",
    "            #print(\"Collision found\")\n",
    "            A = (x0,xd,d)                                  # b\n",
    "            B = (dico[(xd,1-b)][0], xd,dico[(xd,1-b)][1])  # 1-b\n",
    "            return remonter(fhash, A , B, k, b )\n",
    "        dico[(xd,b)] = (x0, d)\n"
   ]
  },
  {
   "cell_type": "code",
   "execution_count": null,
   "metadata": {},
   "outputs": [],
   "source": [
    "def collision_detection_multiple(fhash, k, l, nb_col):\n",
    "    liste = []\n",
    "    i = 0\n",
    "    while i<nb_col :\n",
    "        tmp = collision_detection2(fhash,  k, l)\n",
    "        if tmp == None:\n",
    "            continue\n",
    "        if tmp in liste or (tmp[1],tmp[0]) in liste: # si collision deja trouvé \n",
    "            continue \n",
    "        liste.append(tmp)\n",
    "        i += 1\n",
    "        #print((liste))\n",
    "    return liste"
   ]
  },
  {
   "cell_type": "code",
   "execution_count": null,
   "metadata": {},
   "outputs": [],
   "source": [
    "# collision_detection_multiple(F, 20, 10, (2**10)/2 )"
   ]
  },
  {
   "cell_type": "code",
   "execution_count": null,
   "metadata": {},
   "outputs": [],
   "source": [
    "k = 20\n",
    "l = 10\n",
    "\n",
    "collision_detection2(F, k, l)"
   ]
  },
  {
   "cell_type": "code",
   "execution_count": null,
   "metadata": {},
   "outputs": [],
   "source": [
    "print(f_cut_k(hashlib.md5, 222001, 20),'\\n')\n",
    "print(f_cut_k(hashlib.sha256, 913729, 20))"
   ]
  }
 ],
 "metadata": {
  "kernelspec": {
   "display_name": "Python 3",
   "language": "python",
   "name": "python3"
  },
  "language_info": {
   "codemirror_mode": {
    "name": "ipython",
    "version": 3
   },
   "file_extension": ".py",
   "mimetype": "text/x-python",
   "name": "python",
   "nbconvert_exporter": "python",
   "pygments_lexer": "ipython3",
   "version": "3.7.4"
  }
 },
 "nbformat": 4,
 "nbformat_minor": 2
}
