{
 "cells": [
  {
   "cell_type": "code",
   "execution_count": 218,
   "metadata": {},
   "outputs": [],
   "source": [
    "from Crypto.Cipher import AES\n",
    "from Crypto.Util.Padding import pad, unpad\n",
    "from Crypto.Random import get_random_bytes\n",
    "import base64\n",
    "import random"
   ]
  },
  {
   "cell_type": "code",
   "execution_count": 290,
   "metadata": {},
   "outputs": [],
   "source": [
    "def key_generator_AES(kp):\n",
    "    \"\"\"\n",
    "    generer des clefs de 128 bits avec kp bits significatifs\n",
    "    et le reste bourré avec des 0\n",
    "    kp : doit etre multiple de 8 sinon on prend la multiple de 8\n",
    "    la plus proche inf\n",
    "    \"\"\"\n",
    "    key = get_random_bytes(kp//8).ljust(16,b'0')\n",
    "    \n",
    "    return (key)"
   ]
  },
  {
   "cell_type": "code",
   "execution_count": 291,
   "metadata": {},
   "outputs": [],
   "source": [
    "def double_AES(msg, key1, key2,  mode = 'MODE_ECB'):\n",
    "    \"\"\"\n",
    "    faire le double chiffrement AES en ECB \n",
    "    en passant les 2 clefs en parametres\n",
    "    \"\"\"\n",
    "    if not (isinstance(msg,bytes)):\n",
    "        msg = msg.encode()\n",
    "            \n",
    "    enc = simple_enc_AES(msg, key1)\n",
    "\n",
    "    enc = simple_enc_AES(enc, key2)\n",
    "\n",
    "    return enc\n",
    "\n",
    "    \n",
    "def simple_enc_AES(msg, key, mode = 'MODE_ECB'):\n",
    "    \"\"\"\n",
    "    chiffrer AES\n",
    "    \"\"\"\n",
    "    cipher = AES.new(key, AES.MODE_ECB)\n",
    "    enc = cipher.encrypt(pad(msg, len(key)))\n",
    "    return enc\n",
    "\n",
    "def simple_dec_AES(msg, key, mode = 'MODE_ECB'):\n",
    "    \"\"\"\n",
    "    dechiffrer AES\n",
    "    \"\"\"\n",
    "    cipher = AES.new(key, AES.MODE_ECB)\n",
    "    plaintext = cipher.decrypt(msg)\n",
    "    return unpad(plaintext, len(key))"
   ]
  },
  {
   "cell_type": "code",
   "execution_count": 316,
   "metadata": {},
   "outputs": [],
   "source": [
    "kp = 32\n",
    "key1 = key_generator_AES(kp)\n",
    "key2 = key_generator_AES(kp)\n",
    "M1 = \"Voici le message 1\"\n",
    "C1 = double_AES(M1,key1,key2)\n",
    "M2 = \"Voici le message 2\"\n",
    "C2 = double_AES(M2,key1,key2)"
   ]
  },
  {
   "cell_type": "code",
   "execution_count": 313,
   "metadata": {},
   "outputs": [
    {
     "name": "stdout",
     "output_type": "stream",
     "text": [
      "\n"
     ]
    }
   ],
   "source": [
    "'''x0 = get_random_bytes(4)\n",
    "l = list(x0)\n",
    "bin(l[-2])'''\n",
    "print()"
   ]
  },
  {
   "cell_type": "code",
   "execution_count": 312,
   "metadata": {},
   "outputs": [
    {
     "name": "stdout",
     "output_type": "stream",
     "text": [
      "\n"
     ]
    }
   ],
   "source": [
    "'''def shuff_fuc(x0, kp):\n",
    "    \"\"\"\n",
    "    retourne un couple ()\n",
    "    \"\"\"\n",
    "    res  = list(x0)\n",
    "    random.shuffle(res)\n",
    "    res2 = bytes(res[:kp]).ljust(16,b'0')\n",
    "    return bytes(res),  res2\n",
    "\n",
    "'''\n",
    "print()"
   ]
  },
  {
   "cell_type": "code",
   "execution_count": 314,
   "metadata": {},
   "outputs": [],
   "source": [
    "def trail( f, msg ,  n , kp, l):\n",
    "    \"\"\"\n",
    "    retourne un triplet (x0, xd, d) \n",
    "    \"\"\"\n",
    "    \n",
    "    x0 = key_generator_AES(kp)\n",
    "    tmp = x0\n",
    "    d = 0\n",
    "    max_it = 20/ (1/(2**l))  # d'apres l'article\n",
    "    # 2**(l+2)\n",
    "\n",
    "    \n",
    "    #mask_l = 2**l - 1  cond d'arrret ? \n",
    "    while True:\n",
    "        c_temp = f(msg, tmp)\n",
    "    \n",
    "        if d == max_it:\n",
    "            #print(\"Risque de cycle\")\n",
    "            return None\n",
    "        # Est ce que la condition d'arret est sur la clef ou sur le \n",
    "        # le resultat de l'application de la fonction ? \n",
    "        '''\n",
    "            if   == 0:  # condition d'arret\n",
    "            xd = tmp\n",
    "            break\n",
    "            '''\n",
    "        d += 1\n",
    "        tmp = c_temp[:kp//8].ljust(16,b'0')\n",
    "        \n",
    "    \n",
    "    return (x0, xd, d)"
   ]
  },
  {
   "cell_type": "code",
   "execution_count": null,
   "metadata": {},
   "outputs": [],
   "source": []
  }
 ],
 "metadata": {
  "kernelspec": {
   "display_name": "Python 3",
   "language": "python",
   "name": "python3"
  },
  "language_info": {
   "codemirror_mode": {
    "name": "ipython",
    "version": 3
   },
   "file_extension": ".py",
   "mimetype": "text/x-python",
   "name": "python",
   "nbconvert_exporter": "python",
   "pygments_lexer": "ipython3",
   "version": "3.7.3"
  }
 },
 "nbformat": 4,
 "nbformat_minor": 2
}
