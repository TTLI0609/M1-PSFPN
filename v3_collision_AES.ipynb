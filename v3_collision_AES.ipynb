{
 "cells": [
  {
   "cell_type": "code",
   "execution_count": 1,
   "metadata": {},
   "outputs": [],
   "source": [
    "from Crypto.Cipher import AES\n",
    "from Crypto.Util.Padding import pad, unpad\n",
    "from Crypto.Random import get_random_bytes\n",
    "import base64\n",
    "import random"
   ]
  },
  {
   "cell_type": "code",
   "execution_count": 68,
   "metadata": {},
   "outputs": [
    {
     "data": {
      "text/plain": [
       "[197, 141, 71, 0]"
      ]
     },
     "execution_count": 68,
     "metadata": {},
     "output_type": "execute_result"
    }
   ],
   "source": [
    "def key_generator_AES(kp):\n",
    "    \"\"\"\n",
    "    generer des clefs 16bytes avec kp significatif\n",
    "    kp : en byte\n",
    "    \"\"\"\n",
    "    return get_random_bytes(kp)+bytes((16 - kp))\n",
    "\n",
    "def bytes_to_bin(by):\n",
    "    \"\"\"\n",
    "    convertit des bytes en bits \n",
    "    quand l'entier representant le byte contient moins de 8 bits,\n",
    "    on le bourre de 0\n",
    "    \"\"\"\n",
    "    l = list(by)\n",
    "    res = '0b'\n",
    "    for i in l:\n",
    "        res += bin(i)[2:].zfill(8)\n",
    "    return res\n",
    "\n",
    "list((key_generator_AES(3))[:4])"
   ]
  },
  {
   "cell_type": "code",
   "execution_count": 225,
   "metadata": {},
   "outputs": [],
   "source": [
    "def double_AES(msg, key1, key2,  mode = 'MODE_ECB'):\n",
    "    \"\"\"\n",
    "    faire le double chiffrement AES en ECB \n",
    "    en passant les 2 clefs en parametres\n",
    "    \"\"\"\n",
    "    if not (isinstance(msg,bytes)):\n",
    "        msg = msg.encode()\n",
    "            \n",
    "    enc = simple_enc_AES(msg, key1)\n",
    "\n",
    "    enc = simple_enc_AES(enc, key2)\n",
    "\n",
    "    return enc\n",
    "\n",
    "    \n",
    "def simple_enc_AES(msg, key, mode = 'MODE_ECB'):\n",
    "    \"\"\"\n",
    "    chiffrer AES\n",
    "    \"\"\"\n",
    "    if not (isinstance(msg,bytes)):\n",
    "        msg = msg.encode()\n",
    "        \n",
    "    cipher = AES.new(key, AES.MODE_ECB)\n",
    "    enc = cipher.encrypt(pad(msg, len(key)))\n",
    "    return enc\n",
    "\n",
    "def simple_dec_AES(msg, key, mode = 'MODE_ECB'):\n",
    "    \"\"\"\n",
    "    dechiffrer AES\n",
    "    \"\"\"\n",
    "\n",
    "    cipher = AES.new(key, AES.MODE_ECB)\n",
    "    plaintext = cipher.decrypt(msg)\n",
    "    \n",
    "    \n",
    "    #return unpad(plaintext, len(key))  # error de padding si clef incorrevt\n",
    "    return plaintext"
   ]
  },
  {
   "cell_type": "code",
   "execution_count": 233,
   "metadata": {},
   "outputs": [],
   "source": [
    "kp = 4\n",
    "key1 = key_generator_AES(kp)\n",
    "key2 = key_generator_AES(kp)\n",
    "M1 = \"Voici le message 1\"\n",
    "C1 = double_AES(M1,key1,key2)\n",
    "M2 = \"Voici le message 2\"\n",
    "C2 = double_AES(M2,key1,key2)\n"
   ]
  },
  {
   "cell_type": "code",
   "execution_count": 241,
   "metadata": {},
   "outputs": [
    {
     "name": "stdout",
     "output_type": "stream",
     "text": [
      "b'\\xf5\\xbeRw\\\\\\xb5\\x85\\xef\\xd6R\\xc5\\xd1D)M\\x03G\\x91\\xeb\\xec\\xc7\\r\\xa0\\xe7/r\\xf7\\x98\\xb9_c4'\n",
      "b'Voici le message 1'\n"
     ]
    }
   ],
   "source": [
    "\n",
    "re = (unpad(simple_dec_AES(C1,key2), len(key2)))\n",
    "print (re)\n",
    "print(unpad(simple_dec_AES(re,key1), len(key1)))"
   ]
  },
  {
   "cell_type": "code",
   "execution_count": 240,
   "metadata": {},
   "outputs": [
    {
     "name": "stdout",
     "output_type": "stream",
     "text": [
      "b'\\xf5\\xbeRw\\\\\\xb5\\x85\\xef\\xd6R\\xc5\\xd1D)M\\x03G\\x91\\xeb\\xec\\xc7\\r\\xa0\\xe7/r\\xf7\\x98\\xb9_c4\\x10\\x10\\x10\\x10\\x10\\x10\\x10\\x10\\x10\\x10\\x10\\x10\\x10\\x10\\x10\\x10'\n"
     ]
    }
   ],
   "source": [
    "print(simple_dec_AES(C1,key2))"
   ]
  },
  {
   "cell_type": "code",
   "execution_count": 250,
   "metadata": {},
   "outputs": [
    {
     "name": "stdout",
     "output_type": "stream",
     "text": [
      "(b'\\x1f\\xa4\\x16\\x14\\x00\\x00\\x00\\x00\\x00\\x00\\x00\\x00\\x00\\x00\\x00\\x00', b'\\xc2\\xe4\\xfd\\x00\\x00\\x00\\x00\\x00\\x00\\x00\\x00\\x00\\x00\\x00\\x00\\x00', 2)\n"
     ]
    }
   ],
   "source": [
    "def trail( f, msg , kp, l):\n",
    "    \"\"\"\n",
    "    retourne un triplet (x0, xd, d) \n",
    "    kp :nb de byte significatif de la clef\n",
    "    \"\"\"\n",
    "    \n",
    "    x0 = key_generator_AES(kp)\n",
    "    tmp = x0\n",
    "\n",
    "    d = 0\n",
    "    max_it = (20/ (1/(2**l))) // 3  # diviser par 3 car sinon ca prennait \n",
    "                                    # tres longtemps\n",
    "    mask_l = 2**l - 1  \n",
    "    \n",
    "    while True:\n",
    "        c_temp = f(msg, tmp)\n",
    "        \n",
    "        if d == max_it:\n",
    "            #print(\"Risque de cycle \")\n",
    "            return None\n",
    "        \n",
    "        tmp_binary = bytes_to_bin(tmp[:kp])\n",
    "        if int(tmp_binary,2) & mask_l == 0:  # condition d'arret\n",
    "            xd = tmp\n",
    "            break\n",
    "\n",
    "            \n",
    "        d += 1\n",
    "        #print(c_temp[:kp])\n",
    "        tmp = c_temp[:kp]+bytes((16 - kp))\n",
    "        \n",
    "    return (x0, xd, d)\n"
   ]
  },
  {
   "cell_type": "code",
   "execution_count": null,
   "metadata": {},
   "outputs": [],
   "source": [
    "kp = 4\n",
    "l=5\n",
    "print(trail(simple_enc_AES, M1, kp, l ))"
   ]
  },
  {
   "cell_type": "code",
   "execution_count": 251,
   "metadata": {},
   "outputs": [],
   "source": [
    "def F(b):\n",
    "    \"\"\"\n",
    "    Choisir uniformement une fonction\n",
    "    b : 0 ou 1\n",
    "    \"\"\"\n",
    "    if b == 0:\n",
    "        return simple_enc_AES\n",
    "    if b == 1:\n",
    "        return simple_dec_AES"
   ]
  },
  {
   "cell_type": "code",
   "execution_count": 256,
   "metadata": {},
   "outputs": [],
   "source": [
    "def new_step(f, M, kp, x):\n",
    "    \"\"\"\n",
    "    \"\"\"\n",
    "    c = f(M, x)\n",
    "    return c[:kp]+bytes((16 - kp))"
   ]
  },
  {
   "cell_type": "code",
   "execution_count": 272,
   "metadata": {},
   "outputs": [],
   "source": [
    "def remonter (F ,A , B,M,C, kp, b):\n",
    "    \"\"\"\n",
    "    returne (x,y) tq x != y et fhash(x) == fhash(y)\n",
    "    A, B : triplet (x0, xd, d)\n",
    "    b : 0 ou 1\n",
    "    \"\"\"       \n",
    "    couple = [M,C]\n",
    "    if A[2] >= B[2]: \n",
    "\n",
    "        x = A[0]\n",
    "        for _ in range(A[2]-B[2]):\n",
    "            x =  new_step(F(b), couple[b], kp, x)\n",
    "        y = B[0]\n",
    "\n",
    "        if x == y : \n",
    "            print('pb : x==y et fhash(x)==fhash(y)')\n",
    "            return None\n",
    "\n",
    "        while True:\n",
    "            if x == y :\n",
    "                break\n",
    "\n",
    "            tmp1 = x            \n",
    "            tmp2 = y             # anciennes valeurs\n",
    "            \n",
    "            x =  new_step(F(b), couple[b], kp, tmp1)\n",
    "            y = new_step(F(1-b), couple[1-b], kp, tmp2)\n",
    "\n",
    "        #return ( (tmp1, F(b).__name__ ) , (tmp2, F(1-b).__name__ ))\n",
    "        return (   (tmp1, F(b)) , (tmp2, F(1-b))    )\n",
    "        \n",
    "    else:    # A[2] < B[2] mais on fait la meme chose\n",
    "        \n",
    "        y = B[0]\n",
    "        for _ in range(B[2]-A[2]):\n",
    "            y =  new_step(F(1-b), couple[1-b], kp, y)\n",
    "        x = A[0]\n",
    "\n",
    "        if x == y : \n",
    "            print('pb : x==y et fhash(x)==fhash(y)')\n",
    "            return None\n",
    "\n",
    "        while True:\n",
    "            if x == y :\n",
    "                break\n",
    "\n",
    "            tmp1 = x            \n",
    "            tmp2 = y             # anciennes valeurs\n",
    "            x = new_step(F(b), couple[b], kp, tmp1)\n",
    "            y = new_step(F(1-b), couple[1-b], kp, tmp2)\n",
    "\n",
    "        #return ( (tmp1, F(b).__name__ ) , (tmp2, F(1-b).__name__ ))\n",
    "        return (   (tmp1, F(b)) , (tmp2, F(1-b))    )"
   ]
  },
  {
   "cell_type": "code",
   "execution_count": 273,
   "metadata": {},
   "outputs": [],
   "source": [
    "def collision_detection(F, M, C, kp, l):\n",
    "    \"\"\"\n",
    "    detecte une seule collision\n",
    "    retourne le couple de triplet ( (x0,xd,d), (x0',xd,d') )\n",
    "    \"\"\"\n",
    "    dico = {}\n",
    "    couple = [M,C]\n",
    "    while True: \n",
    "        b = random.randint(0,1) \n",
    "        res = trail(F(b),couple[b], kp, l)\n",
    "        if res == None:\n",
    "            continue\n",
    "            \n",
    "        x0, xd, d = res\n",
    "\n",
    "        if (xd,1-b) in dico:  \n",
    "            #print(\"Collision found\")\n",
    "            A = (x0,xd,d)                                  # b\n",
    "            B = (dico[(xd,1-b)][0], xd,dico[(xd,1-b)][1])  # 1-b\n",
    "            return remonter(F, A , B, M, C, kp, b )\n",
    "            #return A, B\n",
    "        dico[(xd,b)] = (x0, d)\n"
   ]
  },
  {
   "cell_type": "code",
   "execution_count": 274,
   "metadata": {},
   "outputs": [
    {
     "data": {
      "text/plain": [
       "((b'S$\\x0c\\x12\\x00\\x00\\x00\\x00\\x00\\x00\\x00\\x00\\x00\\x00\\x00\\x00',\n",
       "  <function __main__.simple_enc_AES(msg, key, mode='MODE_ECB')>),\n",
       " (b'RHg\\xe3\\x00\\x00\\x00\\x00\\x00\\x00\\x00\\x00\\x00\\x00\\x00\\x00',\n",
       "  <function __main__.simple_dec_AES(msg, key, mode='MODE_ECB')>))"
      ]
     },
     "execution_count": 274,
     "metadata": {},
     "output_type": "execute_result"
    }
   ],
   "source": [
    "collision_detection(F, M1, C1, kp, l)"
   ]
  },
  {
   "cell_type": "code",
   "execution_count": 261,
   "metadata": {},
   "outputs": [
    {
     "name": "stdout",
     "output_type": "stream",
     "text": [
      "b'\\x8c\\xa6L\\xc0'\n",
      "b'\\x8c\\xa6L\\xc0'\n"
     ]
    }
   ],
   "source": [
    "print(simple_enc_AES(M1, b'\\xe1\\x95\\xbe;\\x00\\x00\\x00\\x00\\x00\\x00\\x00\\x00\\x00\\x00\\x00\\x00')[:4])\n",
    "print(simple_dec_AES(C1, b'\\xeb_\\x15\\xd6\\x00\\x00\\x00\\x00\\x00\\x00\\x00\\x00\\x00\\x00\\x00\\x00')[:4])"
   ]
  },
  {
   "cell_type": "code",
   "execution_count": 275,
   "metadata": {},
   "outputs": [],
   "source": [
    "def collision_detection_multiple(F,M, C, kp, l, nb_col):\n",
    "    liste = []\n",
    "    i = 0\n",
    "    while i<nb_col :\n",
    "        tmp = collision_detection(F, M, C, kp, l)\n",
    "        if tmp == None:\n",
    "            continue\n",
    "        if tmp in liste or (tmp[1],tmp[0]) in liste: # si collision deja trouvé \n",
    "            continue \n",
    "        liste.append(tmp)\n",
    "        i += 1\n",
    "        #print((liste))\n",
    "    return liste"
   ]
  },
  {
   "cell_type": "code",
   "execution_count": 277,
   "metadata": {},
   "outputs": [
    {
     "name": "stdout",
     "output_type": "stream",
     "text": [
      "25.613345861434937\n"
     ]
    }
   ],
   "source": [
    "import time\n",
    "l= 5\n",
    "col = 3\n",
    "t1 = time.time()\n",
    "collisions = collision_detection_multiple(F, M1, C1, kp, l, col )\n",
    "t2 = time.time()\n",
    "print(t2-t1)"
   ]
  },
  {
   "cell_type": "code",
   "execution_count": 281,
   "metadata": {},
   "outputs": [
    {
     "name": "stdout",
     "output_type": "stream",
     "text": [
      "((b'\\x0f9]W\\x00\\x00\\x00\\x00\\x00\\x00\\x00\\x00\\x00\\x00\\x00\\x00', <function simple_enc_AES at 0x7f7b255c9b00>), (b'\\x86\\x16aA\\x00\\x00\\x00\\x00\\x00\\x00\\x00\\x00\\x00\\x00\\x00\\x00', <function simple_dec_AES at 0x7f7b255c9560>))\n"
     ]
    }
   ],
   "source": [
    "print(collisions[2])"
   ]
  },
  {
   "cell_type": "code",
   "execution_count": 294,
   "metadata": {},
   "outputs": [],
   "source": [
    "def verification(M,C, list_col_keys):\n",
    "    \n",
    "    for i in list_col_keys:\n",
    "        try: \n",
    "            if i[0][1].__name__ == \"simple_enc_AES\":\n",
    "                tmp1= i[0][1](M, i[0][0])\n",
    "                tmp2 = unpad(i[1][1](C, i[1][0]), 16)\n",
    "            else:\n",
    "                tmp1= unpad(i[0][1](C, i[0][0]),16)\n",
    "                tmp2 = i[1][1](M, i[1][0])\n",
    "\n",
    "            if( tmp1 == tmp2):\n",
    "                return True\n",
    "        except ValueError:\n",
    "            pass\n",
    "        else : \n",
    "            print(tmp1+'\\n'+tmp2+'\\n\\n')\n",
    "    "
   ]
  },
  {
   "cell_type": "code",
   "execution_count": 295,
   "metadata": {},
   "outputs": [],
   "source": [
    "verification(M2,C2, collisions)"
   ]
  },
  {
   "cell_type": "code",
   "execution_count": null,
   "metadata": {},
   "outputs": [],
   "source": []
  }
 ],
 "metadata": {
  "kernelspec": {
   "display_name": "Python 3",
   "language": "python",
   "name": "python3"
  },
  "language_info": {
   "codemirror_mode": {
    "name": "ipython",
    "version": 3
   },
   "file_extension": ".py",
   "mimetype": "text/x-python",
   "name": "python",
   "nbconvert_exporter": "python",
   "pygments_lexer": "ipython3",
   "version": "3.7.4"
  }
 },
 "nbformat": 4,
 "nbformat_minor": 2
}
