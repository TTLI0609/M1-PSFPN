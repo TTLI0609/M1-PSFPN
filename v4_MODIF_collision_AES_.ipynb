{
 "cells": [
  {
   "cell_type": "code",
   "execution_count": 31,
   "metadata": {},
   "outputs": [],
   "source": [
    "from Crypto.Cipher import AES\n",
    "from Crypto.Util.Padding import pad, unpad\n",
    "from Crypto.Random import get_random_bytes\n",
    "import base64\n",
    "import random\n",
    "import math\n",
    "import doctest"
   ]
  },
  {
   "cell_type": "code",
   "execution_count": 127,
   "metadata": {},
   "outputs": [],
   "source": [
    "def bin_right_padding(c,kp):\n",
    "    \"\"\"\n",
    "    Prend les kp premiers bit de c (qui est en bytes),\n",
    "    ajoute des 0 à droite pour avoir 128 bits\n",
    "    et retourne le byte correspondant \n",
    "    \"\"\"\n",
    "    res = bytes_to_bin(c)\n",
    "    res = res[:kp+2]\n",
    "    res = res.ljust(16*8 +2,'0')\n",
    "    res = bitstring_to_bytes(res) \n",
    "    return res"
   ]
  },
  {
   "cell_type": "code",
   "execution_count": 128,
   "metadata": {},
   "outputs": [
    {
     "data": {
      "text/plain": [
       "'\\nk = key_generator_AES(12)   # clef de 12 bits\\nprint(k.hex())\\nprint(bin(k[0]))\\nprint(bin(k[1]))\\nk[1] & 0b11110000 \\n'"
      ]
     },
     "execution_count": 128,
     "metadata": {},
     "output_type": "execute_result"
    }
   ],
   "source": [
    "def bitstring_to_bytes(s):\n",
    "    \"\"\"\n",
    "    Convertir des bits en bytes\n",
    "    \"\"\"\n",
    "    v = int(s, 2)\n",
    "    b = bytearray()\n",
    "    while v:\n",
    "        b.append(v & 0xff)\n",
    "        v >>= 8\n",
    "    return bytes(b[::-1])\n",
    "\n",
    "\n",
    "def bytes_to_bin(by):\n",
    "    \"\"\"\n",
    "    Convertir des bytes en bits \n",
    "    quand l'entier representant le byte a moins de 8 bits,\n",
    "    on le bourre de 0 à gauche\n",
    "    \"\"\"\n",
    "    l = list(by)\n",
    "    res = '0b'\n",
    "    for i in l:\n",
    "        res += bin(i)[2:].zfill(8)\n",
    "    return res\n",
    "\n",
    "\n",
    "def key_generator_AES(kp):\n",
    "    \"\"\"\n",
    "    Générer une clef de 16 bytes avec kp bits significatifs\n",
    "    >>> len(key_generator_AES(10))\n",
    "    16\n",
    "    \"\"\"\n",
    "    b = get_random_bytes(math.ceil(kp/8))\n",
    "    b = bin_right_padding(b,kp)\n",
    "    return b \n",
    "\"\"\"\n",
    "k = key_generator_AES(12)   # clef de 12 bits\n",
    "print(k.hex())\n",
    "print(bin(k[0]))\n",
    "print(bin(k[1]))\n",
    "k[1] & 0b11110000 \n",
    "\"\"\""
   ]
  },
  {
   "cell_type": "code",
   "execution_count": 79,
   "metadata": {},
   "outputs": [],
   "source": [
    "def simple_enc_AES(msg, key, mode = 'MODE_ECB'):\n",
    "    \"\"\"\n",
    "    Chiffrer AES\n",
    "    Retourne le message chiffré par l'AES en bytes\n",
    "    \"\"\"\n",
    "    if not (isinstance(msg,bytes)):\n",
    "        msg = msg.encode()\n",
    "        \n",
    "    cipher = AES.new(key, AES.MODE_ECB)\n",
    "    enc = cipher.encrypt(pad(msg, len(key)))\n",
    "    return enc\n",
    "\n",
    "def simple_dec_AES(msg, key, mode = 'MODE_ECB'):\n",
    "    \"\"\"\n",
    "    Dechiffrer AES\n",
    "    Retourne le message non unpader et en bytes\n",
    "    \n",
    "    ATTENTION => le retour n'est pas UNPADER, fo utiliser unpad !!!\n",
    "    \n",
    "    >>> msg = 'test'\n",
    "    >>> key = key_generator_AES(10)\n",
    "    >>> encrypt = simple_enc_AES(msg, key)\n",
    "    >>> unpad(simple_dec_AES(encrypt,key),16).decode()\n",
    "    'test'\n",
    "    \"\"\"\n",
    "    cipher = AES.new(key, AES.MODE_ECB)\n",
    "    plaintext = cipher.decrypt(msg)\n",
    "    \n",
    "    # error de padding si clef incorrevt\n",
    "    #return unpad(plaintext, len(key))  \n",
    "    return plaintext"
   ]
  },
  {
   "cell_type": "code",
   "execution_count": 78,
   "metadata": {},
   "outputs": [],
   "source": [
    "def double_AES(msg, key1, key2,  mode = 'MODE_ECB'):\n",
    "    \"\"\"\n",
    "    Faire le double chiffrement AES\n",
    "    en passant les 2 clefs key1 et key2 en parametres\n",
    "    (on a pas defini les autres modes)\n",
    "    \"\"\"\n",
    "    enc = simple_enc_AES(msg, key1)\n",
    "    enc = simple_enc_AES(enc, key2)\n",
    "    return enc"
   ]
  },
  {
   "cell_type": "code",
   "execution_count": 36,
   "metadata": {},
   "outputs": [],
   "source": [
    "kp = 3*8\n",
    "key1 = key_generator_AES(kp)\n",
    "key2 = key_generator_AES(kp)\n",
    "M1 = \"Voici le message 1\"\n",
    "C1 = double_AES(M1,key1,key2)\n",
    "M2 = \"Voici le message 2\"\n",
    "C2 = double_AES(M2,key1,key2)"
   ]
  },
  {
   "cell_type": "code",
   "execution_count": 37,
   "metadata": {},
   "outputs": [],
   "source": [
    "def trail(f, msg, kp, l, x0):\n",
    "    \"\"\"\n",
    "    Retourne un triplet (x0, xd, d) \n",
    "    f : fonction chiffrement OU dechiffrement\n",
    "    msg : message clair OU chiffré deux fois  \n",
    "    kp :nb de bit significatif de la clef\n",
    "    l : nb de bit à 0 (pour la condition d'arrêt)\n",
    "    \n",
    "    >>> msg = \"Voici le message\"\n",
    "    >>> x0 = key_generator_AES(kp)\n",
    "    >>> kp = 10\n",
    "    >>> l = 3\n",
    "    >>> (x0,xd, d) = trail(simple_enc_AES, msg, kp, l, x0)\n",
    "    >>> tmp = x0\n",
    "    >>> for _ in range(d):\n",
    "    ...     tmp = simple_enc_AES(msg,tmp)\n",
    "    ...     tmp = bin_right_padding(tmp,kp) \n",
    "    >>> print(tmp==xd)\n",
    "    True\n",
    "    \"\"\"\n",
    "    \n",
    "    tmp = x0\n",
    "\n",
    "    d = 0                                # compter le nb de pas\n",
    "    max_it = (20/ (1/(2**l))) // 3       # diviser par 3 car sinon ca prends tres longtemps\n",
    "    mask_l = 2**l - 1               \n",
    "    \n",
    "    while True:\n",
    "        \n",
    "        if len(tmp) < 16:                # des fois les 8 premiers bits sont nuls alors la clef devient trop courte \n",
    "            tmp = tmp.rjust(16,b\"\\x00\")  # après la conversion de bits en byte\n",
    "        \n",
    "        c_temp = f(msg, tmp)               \n",
    "            \n",
    "        if d == max_it:\n",
    "            #print(\"Risque de cycle \")\n",
    "            return None\n",
    "        \n",
    "        tmp_binary = bytes_to_bin(tmp)[:kp+2]\n",
    "        if int(tmp_binary,2) & mask_l == 0:  # condition d'arret\n",
    "            xd = tmp\n",
    "            break\n",
    "            \n",
    "        d += 1\n",
    "        \n",
    "        tmp = bin_right_padding(c_temp,kp)         # générer la nouvelle clef       \n",
    "    return (x0, xd, d)\n",
    "\n"
   ]
  },
  {
   "cell_type": "code",
   "execution_count": 38,
   "metadata": {},
   "outputs": [
    {
     "name": "stdout",
     "output_type": "stream",
     "text": [
      "(b'\"\\x9c\\x00\\x00\\x00\\x00\\x00\\x00\\x00\\x00\\x00\\x00\\x00\\x00\\x00\\x00', b'\\x14@\\x00\\x00\\x00\\x00\\x00\\x00\\x00\\x00\\x00\\x00\\x00\\x00\\x00\\x00', 6)\n"
     ]
    }
   ],
   "source": [
    "kp = 2*8\n",
    "l = 5\n",
    "x0 = key_generator_AES(kp)           # clef aléatoire initiale\n",
    "print(trail(simple_enc_AES, M1, kp, l ,x0))"
   ]
  },
  {
   "cell_type": "code",
   "execution_count": 39,
   "metadata": {},
   "outputs": [],
   "source": [
    "def F(b):\n",
    "    \"\"\"\n",
    "    Choisir une fonction\n",
    "    b : 0 OU 1\n",
    "    \n",
    "    0 correspond à simple_enc_AES\n",
    "    1 correspond à simple_dec_AES\n",
    "    \"\"\"\n",
    "    if b == 0:\n",
    "        return simple_enc_AES\n",
    "    if b == 1:\n",
    "        return simple_dec_AES"
   ]
  },
  {
   "cell_type": "code",
   "execution_count": 40,
   "metadata": {},
   "outputs": [],
   "source": [
    "def new_step(f, M, kp, x):\n",
    "    \"\"\"\n",
    "    passer d'un xi au suivant\n",
    "    \n",
    "    >>> x= get_random_bytes(13)\n",
    "    >>> len(new_step(simple_enc_AES, 'test', 10, x))\n",
    "    16\n",
    "    \"\"\"\n",
    "    if len(x) < 16:                     # des fois les 8 premiers bits sont nuls\n",
    "        x = x.rjust(16,b\"\\x00\")\n",
    "        \n",
    "    c = f(M, x)\n",
    "    \n",
    "    tmp = bin_right_padding(c,kp)\n",
    "    return tmp"
   ]
  },
  {
   "cell_type": "code",
   "execution_count": 65,
   "metadata": {},
   "outputs": [],
   "source": [
    "def remonter (F, A, B, M, C, kp, b):\n",
    "    \"\"\"\n",
    "    Returne ( (x, f1) , (y, f2) ) tq x != y et f1(x) == f2(y)\n",
    "    F : choix entre chiffrement et déchiffrement \n",
    "    A, B : triplet (x0, xd, d)\n",
    "    M, C : clair et chiffré double\n",
    "    kp : nb de bits significatif de la clef\n",
    "    b : 0 ou 1\n",
    "    \"\"\"       \n",
    "    couple = [M,C]\n",
    "    \n",
    "    if A[2] >= B[2]: \n",
    "\n",
    "        x = A[0]\n",
    "        for _ in range(A[2]-B[2]):\n",
    "            x =  new_step(F(b), couple[b], kp, x)\n",
    "        y = B[0]\n",
    "\n",
    "        if x == y : \n",
    "            #print('pb : x==y et fhash(x)==fhash(y)')\n",
    "            return None\n",
    "\n",
    "        while True:\n",
    "            if x == y :\n",
    "                break\n",
    "            tmp1 = x            \n",
    "            tmp2 = y             # anciennes valeurs\n",
    "            x =  new_step(F(b), couple[b], kp, tmp1)\n",
    "            y = new_step(F(1-b), couple[1-b], kp, tmp2)\n",
    "            \n",
    "        return (   (tmp1, b) , (tmp2, 1-b)    )\n",
    "        \n",
    "        \n",
    "    else:          # A[2] < B[2] mais on fait la meme chose\n",
    "        y = B[0]\n",
    "        for _ in range(B[2]-A[2]):\n",
    "            y =  new_step(F(1-b), couple[1-b], kp, y)\n",
    "        x = A[0]\n",
    "\n",
    "        if x == y : \n",
    "            #print('pb : x==y et fhash(x)==fhash(y)')\n",
    "            return None\n",
    "\n",
    "        while True:\n",
    "            if x == y :\n",
    "                break\n",
    "\n",
    "            tmp1 = x            \n",
    "            tmp2 = y             # anciennes valeurs\n",
    "            x = new_step(F(b), couple[b], kp, tmp1)\n",
    "            y = new_step(F(1-b), couple[1-b], kp, tmp2)\n",
    "\n",
    "        return (   (tmp1, b) , (tmp2, 1-b)    )"
   ]
  },
  {
   "cell_type": "code",
   "execution_count": 94,
   "metadata": {},
   "outputs": [
    {
     "data": {
      "text/plain": [
       "TestResults(failed=0, attempted=25)"
      ]
     },
     "execution_count": 94,
     "metadata": {},
     "output_type": "execute_result"
    }
   ],
   "source": [
    "def collision_detection(F, M, C, kp, l, dico):\n",
    "    \"\"\"\n",
    "    Detecte une seule collision\n",
    "    Retourne le couple ( (x, f1) , (y, f2) ) tq x != y et f1(x) == f2(y)\n",
    "    F : choix entre chiffrement et déchiffrement \n",
    "    M, C : clair et chiffré double\n",
    "    kp : nb de bits significatif de la clef\n",
    "    l : nb de bits pour la condition d'arrêt\n",
    "    dico : contenant les collisions trouvées\n",
    "    \n",
    "    >>> kp = 10\n",
    "    >>> key1 = key_generator_AES(kp)\n",
    "    >>> key2 = key_generator_AES(kp)\n",
    "    >>> M = 'Voici le message'\n",
    "    >>> C = double_AES(M, key1, key2)\n",
    "    >>> l = 4\n",
    "    >>> dico = {}\n",
    "    >>> res = collision_detection(F, M, C, kp, l, dico)\n",
    "    >>> if (res[0][1]==0):  \n",
    "    ...     enc = simple_enc_AES(M,res[0][0])\n",
    "    ...     dec = simple_dec_AES(C, res[1][0])\n",
    "    ... else:\n",
    "    ...     enc = simple_enc_AES(M,res[1][0])\n",
    "    ...     dec = simple_dec_AES(C, res[0][0])\n",
    "    >>> print(enc[:kp//8]==dec[:kp//8] )\n",
    "    True\n",
    "    \"\"\"\n",
    "    couple = [M,C]\n",
    "    seuil = 10000                  # valeur estimé pour le nb max d'éléments dans le dico\n",
    "    \n",
    "    while True: \n",
    "        b = random.randint(0,1) \n",
    "        x0 = key_generator_AES(kp)           # clef aléatoire initiale\n",
    "        res = trail(F(b),couple[b], kp, l, x0)\n",
    "        \n",
    "        if res == None:\n",
    "            continue\n",
    "            \n",
    "        x0, xd, d = res\n",
    "\n",
    "        if (xd,1-b) in dico:        # collision trouvée\n",
    "            A = (x0,xd,d)                                   # b\n",
    "            B = (dico[(xd,1-b)][0], xd, dico[(xd,1-b)][1])  # 1-b\n",
    "            return remonter(F, A , B, M, C, kp, b )\n",
    "        \n",
    "        # si la taille du dico depasse la limite fixée, choix aléatoire de la victime\n",
    "        if len(dico) >= seuil:      \n",
    "            delete = random.choice(list(dico.keys()))\n",
    "            dico.pop(delete)\n",
    "        dico[(xd,b)] = (x0, d)\n",
    "        \n",
    "doctest.testmod()"
   ]
  },
  {
   "cell_type": "code",
   "execution_count": 95,
   "metadata": {},
   "outputs": [
    {
     "name": "stdout",
     "output_type": "stream",
     "text": [
      "((b'\\xed-\\x00\\x00\\x00\\x00\\x00\\x00\\x00\\x00\\x00\\x00\\x00\\x00\\x00\\x00', 0), (b'O\\x0c\\x00\\x00\\x00\\x00\\x00\\x00\\x00\\x00\\x00\\x00\\x00\\x00\\x00\\x00', 1))\n"
     ]
    }
   ],
   "source": [
    "dico={}\n",
    "\n",
    "print(collision_detection(F, M1, C1, kp, l,dico))\n"
   ]
  },
  {
   "cell_type": "code",
   "execution_count": 144,
   "metadata": {},
   "outputs": [],
   "source": [
    "class Statistics:\n",
    "    n_new_collisions = 0\n",
    "    n_idem_collisions = 0\n",
    "    def __init__(self):\n",
    "        pass"
   ]
  },
  {
   "cell_type": "code",
   "execution_count": 148,
   "metadata": {},
   "outputs": [],
   "source": [
    "def golden_collision(F, M1, C1, M2, C2 ,kp, l):\n",
    "    \"\"\"\n",
    "    Trouve la golden collision en vérifiant à chaque fois\n",
    "    les clefs obtenus avec (M2, C2)\n",
    "    F : choix entre chiffrement et déchiffrement \n",
    "    M1, C1 : clair et chiffré double pour trouver les collisions\n",
    "    M2, C2 : clair et chiffré double pour la vérificaiton\n",
    "    kp : nb de bits significatif de la clef\n",
    "    l : nb de bits pour la condition d'arrêt\n",
    "    \"\"\"\n",
    "    dico = {}\n",
    "    liste = []\n",
    "    stat = Statistics()\n",
    "    i=0\n",
    "    while True:\n",
    "    \n",
    "        if i%100==0:\n",
    "            print(\"Le nombre de new collisions\",stat.n_new_collisions)\n",
    "            print(\"Le nombre de collisions idem\",stat.n_idem_collisions)\n",
    "            \n",
    "        colli = collision_detection(F, M1, C1, kp, l,dico)\n",
    "        \n",
    "        if colli == None:\n",
    "            continue\n",
    "        if colli in liste or (colli[1],colli[0]) in liste: # si collision deja trouvé \n",
    "            stat.n_idem_collisions += 1\n",
    "            i+=1\n",
    "            continue \n",
    "            \n",
    "        stat.n_new_collisions += 1\n",
    "        \n",
    "        liste.append(colli)\n",
    "        if (len(liste)==2**kp):\n",
    "            print('GROOS PB !!!!!')\n",
    "            break\n",
    "        try: \n",
    "            if colli[0][1] == 0:      # 0 correspond a enc\n",
    "                tmp1 = simple_enc_AES(M2, colli[0][0])\n",
    "                tmp2 = unpad(simple_dec_AES(C2, colli[1][0]), 16)\n",
    "            else:\n",
    "                tmp1 = unpad(simple_dec_AES(C2, colli[0][0]),16)\n",
    "                tmp2 = simple_enc_AES(M2, colli[1][0])\n",
    "            if( tmp1 == tmp2):\n",
    "                print( \"GOLDEN COLLISION ! \")\n",
    "                return (colli)\n",
    "        except ValueError:\n",
    "            pass\n",
    "\n",
    "        \n",
    "        \n",
    "        i+=1"
   ]
  },
  {
   "cell_type": "code",
   "execution_count": 149,
   "metadata": {},
   "outputs": [
    {
     "name": "stdout",
     "output_type": "stream",
     "text": [
      "b'\\xa4\\xdb\\x00\\x00\\x00\\x00\\x00\\x00\\x00\\x00\\x00\\x00\\x00\\x00\\x00\\x00'\n",
      "b'\\xd5\\xf9\\x00\\x00\\x00\\x00\\x00\\x00\\x00\\x00\\x00\\x00\\x00\\x00\\x00\\x00'\n"
     ]
    }
   ],
   "source": [
    "kp = 16\n",
    "key1 = key_generator_AES(kp)\n",
    "key2 = key_generator_AES(kp)\n",
    "M1 = \"Voici le message 1\"\n",
    "C1 = double_AES(M1,key1,key2)\n",
    "M2 = \"Voici le message 2\"\n",
    "C2 = double_AES(M2,key1,key2)\n",
    "\n",
    "print(key1)\n",
    "print(key2)"
   ]
  },
  {
   "cell_type": "code",
   "execution_count": 151,
   "metadata": {},
   "outputs": [],
   "source": [
    "l=4\n",
    "\n",
    "#golden_collision(F, M1, C1,M2,C2 ,kp, l )"
   ]
  },
  {
   "cell_type": "code",
   "execution_count": null,
   "metadata": {},
   "outputs": [],
   "source": []
  }
 ],
 "metadata": {
  "kernelspec": {
   "display_name": "Python 3",
   "language": "python",
   "name": "python3"
  },
  "language_info": {
   "codemirror_mode": {
    "name": "ipython",
    "version": 3
   },
   "file_extension": ".py",
   "mimetype": "text/x-python",
   "name": "python",
   "nbconvert_exporter": "python",
   "pygments_lexer": "ipython3",
   "version": "3.7.1"
  }
 },
 "nbformat": 4,
 "nbformat_minor": 2
}
